{
  "nbformat": 4,
  "nbformat_minor": 0,
  "metadata": {
    "colab": {
      "name": "cats vs dogs.ipynb",
      "provenance": [],
      "authorship_tag": "ABX9TyNhhSJqWRKz6Gj5BqS4tY2Q",
      "include_colab_link": true
    },
    "kernelspec": {
      "name": "python3",
      "display_name": "Python 3"
    },
    "accelerator": "GPU"
  },
  "cells": [
    {
      "cell_type": "markdown",
      "metadata": {
        "id": "view-in-github",
        "colab_type": "text"
      },
      "source": [
        "<a href=\"https://colab.research.google.com/github/jahelsantiago/tensorflow_tutorial/blob/master/cats_vs_dogs.ipynb\" target=\"_parent\"><img src=\"https://colab.research.google.com/assets/colab-badge.svg\" alt=\"Open In Colab\"/></a>"
      ]
    },
    {
      "cell_type": "code",
      "metadata": {
        "id": "AjL5XUluHPgk",
        "colab_type": "code",
        "colab": {}
      },
      "source": [
        "import os\n",
        "import zipfile\n",
        "import random\n",
        "import tensorflow as tf\n",
        "from tensorflow.keras.optimizers import RMSprop\n",
        "from tensorflow.keras.preprocessing.image import ImageDataGenerator\n",
        "from shutil import copyfile\n",
        "from tensorflow.keras.models import Sequential"
      ],
      "execution_count": null,
      "outputs": []
    },
    {
      "cell_type": "markdown",
      "metadata": {
        "id": "l66iHXpzVaDA",
        "colab_type": "text"
      },
      "source": [
        "descargamos los datos"
      ]
    },
    {
      "cell_type": "code",
      "metadata": {
        "id": "vGMkWIznHS_8",
        "colab_type": "code",
        "colab": {
          "base_uri": "https://localhost:8080/",
          "height": 224
        },
        "outputId": "eaa6b831-35bd-4fbe-acd1-bae1d4f9c1e5"
      },
      "source": [
        "!wget --no-check-certificate \\\n",
        "    \"https://download.microsoft.com/download/3/E/1/3E1C3F21-ECDB-4869-8368-6DEBA77B919F/kagglecatsanddogs_3367a.zip\" \\\n",
        "    -O \"/tmp/cats-and-dogs.zip\"    "
      ],
      "execution_count": null,
      "outputs": [
        {
          "output_type": "stream",
          "text": [
            "--2020-08-08 04:38:59--  https://download.microsoft.com/download/3/E/1/3E1C3F21-ECDB-4869-8368-6DEBA77B919F/kagglecatsanddogs_3367a.zip\n",
            "Resolving download.microsoft.com (download.microsoft.com)... 23.35.76.84, 2600:1407:d800:29f::e59, 2600:1407:d800:29d::e59\n",
            "Connecting to download.microsoft.com (download.microsoft.com)|23.35.76.84|:443... connected.\n",
            "HTTP request sent, awaiting response... 200 OK\n",
            "Length: 824894548 (787M) [application/octet-stream]\n",
            "Saving to: ‘/tmp/cats-and-dogs.zip’\n",
            "\n",
            "/tmp/cats-and-dogs. 100%[===================>] 786.68M   115MB/s    in 7.7s    \n",
            "\n",
            "2020-08-08 04:39:07 (102 MB/s) - ‘/tmp/cats-and-dogs.zip’ saved [824894548/824894548]\n",
            "\n"
          ],
          "name": "stdout"
        }
      ]
    },
    {
      "cell_type": "markdown",
      "metadata": {
        "id": "0vBTY7_IHt2e",
        "colab_type": "text"
      },
      "source": [
        "#### descomprimimps el archivo zip"
      ]
    },
    {
      "cell_type": "code",
      "metadata": {
        "id": "QqQrwm94HZJu",
        "colab_type": "code",
        "colab": {}
      },
      "source": [
        "zip_path = \"/tmp/cats-and-dogs.zip\"\n",
        "zip = zipfile.ZipFile(zip_path,\"r\")\n",
        "zip.extractall(\"/tmp\")\n",
        "zip.close()"
      ],
      "execution_count": null,
      "outputs": []
    },
    {
      "cell_type": "code",
      "metadata": {
        "id": "Rg6DBDhvHz5r",
        "colab_type": "code",
        "colab": {
          "base_uri": "https://localhost:8080/",
          "height": 51
        },
        "outputId": "56972364-0b84-4a5c-bf87-eec5d24237b8"
      },
      "source": [
        "print(len(os.listdir('/tmp/PetImages/Cat/')))\n",
        "print(len(os.listdir('/tmp/PetImages/Dog/')))"
      ],
      "execution_count": null,
      "outputs": [
        {
          "output_type": "stream",
          "text": [
            "12501\n",
            "12501\n"
          ],
          "name": "stdout"
        }
      ]
    },
    {
      "cell_type": "markdown",
      "metadata": {
        "id": "vGDWzQKdLRNR",
        "colab_type": "text"
      },
      "source": [
        "#### creamos los directorios para almacenar los train y test"
      ]
    },
    {
      "cell_type": "code",
      "metadata": {
        "id": "N97wADLsID32",
        "colab_type": "code",
        "colab": {}
      },
      "source": [
        "try:\n",
        "  os.mkdir(\"/tmp/cats-v-dogs/\")\n",
        "\n",
        "  os.mkdir(\"/tmp/cats-v-dogs/training\")\n",
        "  os.mkdir(\"/tmp/cats-v-dogs/training/cats\")\n",
        "  os.mkdir(\"/tmp/cats-v-dogs/training/dogs\")\n",
        "\n",
        "  os.mkdir(\"/tmp/cats-v-dogs/testing\")\n",
        "  os.mkdir(\"/tmp/cats-v-dogs/testing/cats\")\n",
        "  os.mkdir(\"/tmp/cats-v-dogs/testing/dogs\")\n",
        "except OSError:\n",
        "    print(\"error al crear carpetas\")\n",
        "    pass\n",
        "\n"
      ],
      "execution_count": null,
      "outputs": []
    },
    {
      "cell_type": "markdown",
      "metadata": {
        "id": "QdUmH7sgLWxq",
        "colab_type": "text"
      },
      "source": [
        "dividimos el train y test set de manera aleatoria"
      ]
    },
    {
      "cell_type": "code",
      "metadata": {
        "id": "60cusxVRIyDF",
        "colab_type": "code",
        "colab": {}
      },
      "source": [
        "def transfer_data(SOURCE, DESTINY, DATA):\n",
        "  for path in DATA:\n",
        "    if (os.path.getsize(os.path.join(SOURCE,path)) != 0):      \n",
        "        copyfile(os.path.join(SOURCE,path), os.path.join(DESTINY,path))\n",
        "  \n",
        "\n",
        "def split_data(SOURCE, TRAINING, TESTING, SPLIT_SIZE):\n",
        "  source_data = os.listdir(SOURCE)\n",
        "  source_data = random.sample(source_data, len(source_data))\n",
        "\n",
        "  train_data = source_data[:int(len(source_data)*SPLIT_SIZE)]\n",
        "  test_data = source_data[int(len(source_data)*SPLIT_SIZE):]\n",
        "  \n",
        "  transfer_data(SOURCE, TRAINING, train_data)\n",
        "  transfer_data(SOURCE, TESTING, test_data)"
      ],
      "execution_count": null,
      "outputs": []
    },
    {
      "cell_type": "code",
      "metadata": {
        "id": "4DEVsoJ7ORuM",
        "colab_type": "code",
        "colab": {}
      },
      "source": [
        "CAT_SOURCE_DIR = \"/tmp/PetImages/Cat/\"\n",
        "TRAINING_CATS_DIR = \"/tmp/cats-v-dogs/training/cats/\"\n",
        "TESTING_CATS_DIR = \"/tmp/cats-v-dogs/testing/cats/\"\n",
        "DOG_SOURCE_DIR = \"/tmp/PetImages/Dog/\"\n",
        "TRAINING_DOGS_DIR = \"/tmp/cats-v-dogs/training/dogs/\"\n",
        "TESTING_DOGS_DIR = \"/tmp/cats-v-dogs/testing/dogs/\"\n",
        "\n",
        "split_size = .9\n",
        "split_data(CAT_SOURCE_DIR, TRAINING_CATS_DIR, TESTING_CATS_DIR, split_size)\n",
        "split_data(DOG_SOURCE_DIR, TRAINING_DOGS_DIR, TESTING_DOGS_DIR, split_size)"
      ],
      "execution_count": null,
      "outputs": []
    },
    {
      "cell_type": "code",
      "metadata": {
        "id": "hXWgFgPZN-Cf",
        "colab_type": "code",
        "colab": {
          "base_uri": "https://localhost:8080/",
          "height": 85
        },
        "outputId": "a1aebd24-2597-4738-ae66-0d52f74296c5"
      },
      "source": [
        "print(len(os.listdir('/tmp/cats-v-dogs/training/cats/')))\n",
        "print(len(os.listdir('/tmp/cats-v-dogs/training/dogs/')))\n",
        "print(len(os.listdir('/tmp/cats-v-dogs/testing/cats/')))\n",
        "print(len(os.listdir('/tmp/cats-v-dogs/testing/dogs/')))"
      ],
      "execution_count": null,
      "outputs": [
        {
          "output_type": "stream",
          "text": [
            "11249\n",
            "11249\n",
            "1251\n",
            "1251\n"
          ],
          "name": "stdout"
        }
      ]
    },
    {
      "cell_type": "markdown",
      "metadata": {
        "id": "vWPVKgXgVrJy",
        "colab_type": "text"
      },
      "source": [
        "#### borrar un directorio por si la embarramos"
      ]
    },
    {
      "cell_type": "code",
      "metadata": {
        "id": "e8BonP3MOBVc",
        "colab_type": "code",
        "colab": {}
      },
      "source": [
        "from shutil import rmtree\n",
        "#rmtree(\"/tmp/cats-v-dogs\") por si fallo algo borra la carpeta"
      ],
      "execution_count": null,
      "outputs": []
    },
    {
      "cell_type": "markdown",
      "metadata": {
        "id": "QOJSIVLnQxT6",
        "colab_type": "text"
      },
      "source": [
        "#### creamos el modelo"
      ]
    },
    {
      "cell_type": "code",
      "metadata": {
        "id": "J7aWARWQQH2_",
        "colab_type": "code",
        "colab": {}
      },
      "source": [
        "from tensorflow.keras.models import Sequential\n",
        "from tensorflow.keras.layers import Conv2D, Flatten, Dense, MaxPool2D\n",
        "model = Sequential([\n",
        "                    Conv2D(16,(3,3),input_shape=(300,300,3),activation=\"relu\"),\n",
        "                    MaxPool2D(2,2),\n",
        "                    Conv2D(32,(3,3), activation=\"relu\"),\n",
        "                    MaxPool2D((2,2),2),\n",
        "                    Conv2D(64,(3,3), activation=\"relu\"),\n",
        "                    MaxPool2D((2,2),2),\n",
        "                    Flatten(),\n",
        "                    Dense(128, activation=\"relu\"),\n",
        "                    Dense(1,activation=\"sigmoid\")                                  \n",
        "])\n",
        "\n",
        "model.compile(optimizer=\"adam\", loss =\"binary_crossentropy\", metrics=[\"accuracy\"])"
      ],
      "execution_count": null,
      "outputs": []
    },
    {
      "cell_type": "code",
      "metadata": {
        "id": "TBTFRgd_SbVt",
        "colab_type": "code",
        "colab": {
          "base_uri": "https://localhost:8080/",
          "height": 459
        },
        "outputId": "35edc8bc-66aa-48e4-c426-9d0774f77a1a"
      },
      "source": [
        "model.summary()"
      ],
      "execution_count": null,
      "outputs": [
        {
          "output_type": "stream",
          "text": [
            "Model: \"sequential\"\n",
            "_________________________________________________________________\n",
            "Layer (type)                 Output Shape              Param #   \n",
            "=================================================================\n",
            "conv2d (Conv2D)              (None, 298, 298, 16)      448       \n",
            "_________________________________________________________________\n",
            "max_pooling2d (MaxPooling2D) (None, 149, 149, 16)      0         \n",
            "_________________________________________________________________\n",
            "conv2d_1 (Conv2D)            (None, 147, 147, 32)      4640      \n",
            "_________________________________________________________________\n",
            "max_pooling2d_1 (MaxPooling2 (None, 73, 73, 32)        0         \n",
            "_________________________________________________________________\n",
            "conv2d_2 (Conv2D)            (None, 71, 71, 64)        18496     \n",
            "_________________________________________________________________\n",
            "max_pooling2d_2 (MaxPooling2 (None, 35, 35, 64)        0         \n",
            "_________________________________________________________________\n",
            "flatten (Flatten)            (None, 78400)             0         \n",
            "_________________________________________________________________\n",
            "dense (Dense)                (None, 128)               10035328  \n",
            "_________________________________________________________________\n",
            "dense_1 (Dense)              (None, 1)                 129       \n",
            "=================================================================\n",
            "Total params: 10,059,041\n",
            "Trainable params: 10,059,041\n",
            "Non-trainable params: 0\n",
            "_________________________________________________________________\n"
          ],
          "name": "stdout"
        }
      ]
    },
    {
      "cell_type": "code",
      "metadata": {
        "id": "WFe07zyZU9eU",
        "colab_type": "code",
        "colab": {
          "base_uri": "https://localhost:8080/",
          "height": 51
        },
        "outputId": "ff069717-0be9-49e2-97a9-8b8f62bafd1b"
      },
      "source": [
        "from tensorflow.keras.preprocessing.image import ImageDataGenerator\n",
        "\n",
        "data_gen = ImageDataGenerator(rescale=1./255)\n",
        "train = data_gen.flow_from_directory(\n",
        "    \"/tmp/cats-v-dogs/training\",\n",
        "    target_size = (300,300),\n",
        "    batch_size = 64,\n",
        "    class_mode = \"binary\"\n",
        ")\n",
        "\n",
        "test = data_gen.flow_from_directory(\n",
        "    \"/tmp/cats-v-dogs/testing\",\n",
        "    target_size = (300,300),\n",
        "    batch_size = 64,\n",
        "    class_mode = \"binary\"\n",
        ")"
      ],
      "execution_count": null,
      "outputs": [
        {
          "output_type": "stream",
          "text": [
            "Found 22496 images belonging to 2 classes.\n",
            "Found 2502 images belonging to 2 classes.\n"
          ],
          "name": "stdout"
        }
      ]
    },
    {
      "cell_type": "code",
      "metadata": {
        "id": "_W-aCKFaTEsv",
        "colab_type": "code",
        "colab": {
          "base_uri": "https://localhost:8080/",
          "height": 479
        },
        "outputId": "1601f34b-0714-4d10-d2cb-ea4bc2346e1d"
      },
      "source": [
        "history = model.fit(train,epochs=5,validation_data=test, verbose=1)"
      ],
      "execution_count": null,
      "outputs": [
        {
          "output_type": "stream",
          "text": [
            "Epoch 1/5\n",
            " 66/352 [====>.........................] - ETA: 1:17 - loss: 0.4345 - accuracy: 0.7933"
          ],
          "name": "stdout"
        },
        {
          "output_type": "stream",
          "text": [
            "/usr/local/lib/python3.6/dist-packages/PIL/TiffImagePlugin.py:770: UserWarning: Possibly corrupt EXIF data.  Expecting to read 32 bytes but only got 0. Skipping tag 270\n",
            "  \" Skipping tag %s\" % (size, len(data), tag)\n",
            "/usr/local/lib/python3.6/dist-packages/PIL/TiffImagePlugin.py:770: UserWarning: Possibly corrupt EXIF data.  Expecting to read 5 bytes but only got 0. Skipping tag 271\n",
            "  \" Skipping tag %s\" % (size, len(data), tag)\n",
            "/usr/local/lib/python3.6/dist-packages/PIL/TiffImagePlugin.py:770: UserWarning: Possibly corrupt EXIF data.  Expecting to read 8 bytes but only got 0. Skipping tag 272\n",
            "  \" Skipping tag %s\" % (size, len(data), tag)\n",
            "/usr/local/lib/python3.6/dist-packages/PIL/TiffImagePlugin.py:770: UserWarning: Possibly corrupt EXIF data.  Expecting to read 8 bytes but only got 0. Skipping tag 282\n",
            "  \" Skipping tag %s\" % (size, len(data), tag)\n",
            "/usr/local/lib/python3.6/dist-packages/PIL/TiffImagePlugin.py:770: UserWarning: Possibly corrupt EXIF data.  Expecting to read 8 bytes but only got 0. Skipping tag 283\n",
            "  \" Skipping tag %s\" % (size, len(data), tag)\n",
            "/usr/local/lib/python3.6/dist-packages/PIL/TiffImagePlugin.py:770: UserWarning: Possibly corrupt EXIF data.  Expecting to read 20 bytes but only got 0. Skipping tag 306\n",
            "  \" Skipping tag %s\" % (size, len(data), tag)\n",
            "/usr/local/lib/python3.6/dist-packages/PIL/TiffImagePlugin.py:770: UserWarning: Possibly corrupt EXIF data.  Expecting to read 48 bytes but only got 0. Skipping tag 532\n",
            "  \" Skipping tag %s\" % (size, len(data), tag)\n",
            "/usr/local/lib/python3.6/dist-packages/PIL/TiffImagePlugin.py:788: UserWarning: Corrupt EXIF data.  Expecting to read 2 bytes but only got 0. \n",
            "  warnings.warn(str(msg))\n"
          ],
          "name": "stderr"
        },
        {
          "output_type": "stream",
          "text": [
            "352/352 [==============================] - 105s 298ms/step - loss: 0.4271 - accuracy: 0.8016 - val_loss: 0.4554 - val_accuracy: 0.7882\n",
            "Epoch 2/5\n",
            "352/352 [==============================] - 105s 297ms/step - loss: 0.3404 - accuracy: 0.8514 - val_loss: 0.4484 - val_accuracy: 0.8026\n",
            "Epoch 3/5\n",
            "352/352 [==============================] - 107s 303ms/step - loss: 0.2379 - accuracy: 0.9015 - val_loss: 0.4689 - val_accuracy: 0.8161\n",
            "Epoch 4/5\n",
            "352/352 [==============================] - 104s 295ms/step - loss: 0.1311 - accuracy: 0.9515 - val_loss: 0.6060 - val_accuracy: 0.7990\n",
            "Epoch 5/5\n",
            "352/352 [==============================] - 103s 293ms/step - loss: 0.0569 - accuracy: 0.9808 - val_loss: 0.7957 - val_accuracy: 0.8038\n"
          ],
          "name": "stdout"
        }
      ]
    },
    {
      "cell_type": "markdown",
      "metadata": {
        "id": "goYnkMn5aRuq",
        "colab_type": "text"
      },
      "source": [
        "#### visualizar el desempeño"
      ]
    },
    {
      "cell_type": "code",
      "metadata": {
        "id": "BHKE3ochUmSb",
        "colab_type": "code",
        "colab": {
          "base_uri": "https://localhost:8080/",
          "height": 562
        },
        "outputId": "a6fa2057-eed2-459b-f7c0-aa4d5b4ac3a8"
      },
      "source": [
        "%matplotlib inline \n",
        "\n",
        "import matplotlib.image as mpimg\n",
        "import matplotlib.pyplot as plt\n",
        "\n",
        "acc = history.history[\"accuracy\"]\n",
        "val_acc=history.history['val_accuracy']\n",
        "loss=history.history['loss']\n",
        "val_loss=history.history['val_loss']\n",
        "\n",
        "epochs=range(len(acc))\n",
        "\n",
        "plt.plot(epochs, acc, 'r', \"Training Accuracy\")\n",
        "plt.plot(epochs, val_acc, 'b', \"Validation Accuracy\")\n",
        "plt.title('Training and validation accuracy')\n",
        "plt.figure()\n",
        "\n",
        "plt.plot(epochs, loss, 'r', \"Training Loss\")\n",
        "plt.plot(epochs, val_loss, 'b', \"Validation Loss\")\n",
        "\n",
        "\n",
        "plt.title('Training and validation loss')"
      ],
      "execution_count": null,
      "outputs": [
        {
          "output_type": "execute_result",
          "data": {
            "text/plain": [
              "Text(0.5, 1.0, 'Training and validation loss')"
            ]
          },
          "metadata": {
            "tags": []
          },
          "execution_count": 19
        },
        {
          "output_type": "display_data",
          "data": {
            "image/png": "[encoded data removed]",
            "text/plain": [
              "<Figure size 432x288 with 1 Axes>"
            ]
          },
          "metadata": {
            "tags": [],
            "needs_background": "light"
          }
        },
        {
          "output_type": "display_data",
          "data": {
            "image/png": "[encoded data removed]",
            "text/plain": [
              "<Figure size 432x288 with 1 Axes>"
            ]
          },
          "metadata": {
            "tags": [],
            "needs_background": "light"
          }
        }
      ]
    },
    {
      "cell_type": "markdown",
      "metadata": {
        "id": "GgAX1aSLeRhd",
        "colab_type": "text"
      },
      "source": [
        "#### corremos el modelo con una imagen cualquiera"
      ]
    },
    {
      "cell_type": "code",
      "metadata": {
        "id": "KbIwkACIawK3",
        "colab_type": "code",
        "colab": {}
      },
      "source": [
        "# Here's a codeblock just for fun. You should be able to upload an image here \n",
        "# and have it classified without crashing\n",
        "\n",
        "import numpy as np\n",
        "from google.colab import files\n",
        "from keras.preprocessing import image\n",
        "\n",
        "uploaded = files.upload()\n",
        "\n",
        "for fn in uploaded.keys():\n",
        " \n",
        "  # predicting images\n",
        "  path = '/content/' + fn\n",
        "  img = image.load_img(path, target_size=(# YOUR CODE HERE))\n",
        "  x = image.img_to_array(img)\n",
        "  x = np.expand_dims(x, axis=0)\n",
        "\n",
        "  images = np.vstack([x])\n",
        "  classes = model.predict(images, batch_size=10)\n",
        "  print(classes[0])\n",
        "  if classes[0]>0.5:\n",
        "    print(fn + \" is a dog\")\n",
        "  else:\n",
        "    print(fn + \" is a cat\")"
      ],
      "execution_count": null,
      "outputs": []
    }
  ]
}