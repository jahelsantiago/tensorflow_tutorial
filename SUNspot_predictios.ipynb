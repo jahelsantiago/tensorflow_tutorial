{
  "nbformat": 4,
  "nbformat_minor": 0,
  "metadata": {
    "colab": {
      "name": "Untitled1.ipynb",
      "provenance": [],
      "authorship_tag": "ABX9TyPAdJCDxNgO251luxCGfK8G",
      "include_colab_link": true
    },
    "kernelspec": {
      "name": "python3",
      "display_name": "Python 3"
    }
  },
  "cells": [
    {
      "cell_type": "markdown",
      "metadata": {
        "id": "view-in-github",
        "colab_type": "text"
      },
      "source": [
        "<a href=\"https://colab.research.google.com/github/jahelsantiago/tensorflow_tutorial/blob/master/SUNspot_predictios.ipynb\" target=\"_parent\"><img src=\"https://colab.research.google.com/assets/colab-badge.svg\" alt=\"Open In Colab\"/></a>"
      ]
    },
    {
      "cell_type": "code",
      "metadata": {
        "id": "lTr8c1GZm0kI",
        "colab_type": "code",
        "colab": {
          "base_uri": "https://localhost:8080/",
          "height": 72
        },
        "outputId": "9556cc27-9b1e-4325-f1b1-68f0df0b2281"
      },
      "source": [
        "import tensorflow as tf \n",
        "import seaborn as sns\n",
        "import numpy as np \n",
        "import pandas as pd\n",
        "import matplotlib.pyplot as plt"
      ],
      "execution_count": 1,
      "outputs": [
        {
          "output_type": "stream",
          "text": [
            "/usr/local/lib/python3.6/dist-packages/statsmodels/tools/_testing.py:19: FutureWarning: pandas.util.testing is deprecated. Use the functions in the public API at pandas.testing instead.\n",
            "  import pandas.util.testing as tm\n"
          ],
          "name": "stderr"
        }
      ]
    },
    {
      "cell_type": "code",
      "metadata": {
        "id": "9Ou8WGdgNrVb",
        "colab_type": "code",
        "colab": {
          "base_uri": "https://localhost:8080/",
          "height": 212
        },
        "outputId": "457d464e-3a23-4aa4-9982-fc1fcfcbad8e"
      },
      "source": [
        "!wget --no-check-certificate \\\n",
        "    https://storage.googleapis.com/laurencemoroney-blog.appspot.com/Sunspots.csv \\\n",
        "    -O /tmp/sunspots.csv"
      ],
      "execution_count": 2,
      "outputs": [
        {
          "output_type": "stream",
          "text": [
            "--2020-09-20 02:16:30--  https://storage.googleapis.com/laurencemoroney-blog.appspot.com/Sunspots.csv\n",
            "Resolving storage.googleapis.com (storage.googleapis.com)... 173.194.216.128, 173.194.217.128, 173.194.218.128, ...\n",
            "Connecting to storage.googleapis.com (storage.googleapis.com)|173.194.216.128|:443... connected.\n",
            "HTTP request sent, awaiting response... 200 OK\n",
            "Length: 70827 (69K) [application/octet-stream]\n",
            "Saving to: ‘/tmp/sunspots.csv’\n",
            "\n",
            "\r/tmp/sunspots.csv     0%[                    ]       0  --.-KB/s               \r/tmp/sunspots.csv   100%[===================>]  69.17K  --.-KB/s    in 0.002s  \n",
            "\n",
            "2020-09-20 02:16:30 (41.6 MB/s) - ‘/tmp/sunspots.csv’ saved [70827/70827]\n",
            "\n"
          ],
          "name": "stdout"
        }
      ]
    },
    {
      "cell_type": "code",
      "metadata": {
        "id": "5Wdc7Aa9nYL-",
        "colab_type": "code",
        "colab": {
          "base_uri": "https://localhost:8080/",
          "height": 406
        },
        "outputId": "71cbb5ba-385b-41d9-c3b0-7dc0f033479e"
      },
      "source": [
        "df_sun = pd.read_csv(r\"/tmp/sunspots.csv\")\n",
        "df_sun"
      ],
      "execution_count": 3,
      "outputs": [
        {
          "output_type": "execute_result",
          "data": {
            "text/html": [
              "<div>\n",
              "<style scoped>\n",
              "    .dataframe tbody tr th:only-of-type {\n",
              "        vertical-align: middle;\n",
              "    }\n",
              "\n",
              "    .dataframe tbody tr th {\n",
              "        vertical-align: top;\n",
              "    }\n",
              "\n",
              "    .dataframe thead th {\n",
              "        text-align: right;\n",
              "    }\n",
              "</style>\n",
              "<table border=\"1\" class=\"dataframe\">\n",
              "  <thead>\n",
              "    <tr style=\"text-align: right;\">\n",
              "      <th></th>\n",
              "      <th>Unnamed: 0</th>\n",
              "      <th>Date</th>\n",
              "      <th>Monthly Mean Total Sunspot Number</th>\n",
              "    </tr>\n",
              "  </thead>\n",
              "  <tbody>\n",
              "    <tr>\n",
              "      <th>0</th>\n",
              "      <td>0</td>\n",
              "      <td>1749-01-31</td>\n",
              "      <td>96.7</td>\n",
              "    </tr>\n",
              "    <tr>\n",
              "      <th>1</th>\n",
              "      <td>1</td>\n",
              "      <td>1749-02-28</td>\n",
              "      <td>104.3</td>\n",
              "    </tr>\n",
              "    <tr>\n",
              "      <th>2</th>\n",
              "      <td>2</td>\n",
              "      <td>1749-03-31</td>\n",
              "      <td>116.7</td>\n",
              "    </tr>\n",
              "    <tr>\n",
              "      <th>3</th>\n",
              "      <td>3</td>\n",
              "      <td>1749-04-30</td>\n",
              "      <td>92.8</td>\n",
              "    </tr>\n",
              "    <tr>\n",
              "      <th>4</th>\n",
              "      <td>4</td>\n",
              "      <td>1749-05-31</td>\n",
              "      <td>141.7</td>\n",
              "    </tr>\n",
              "    <tr>\n",
              "      <th>...</th>\n",
              "      <td>...</td>\n",
              "      <td>...</td>\n",
              "      <td>...</td>\n",
              "    </tr>\n",
              "    <tr>\n",
              "      <th>3230</th>\n",
              "      <td>3230</td>\n",
              "      <td>2018-03-31</td>\n",
              "      <td>2.5</td>\n",
              "    </tr>\n",
              "    <tr>\n",
              "      <th>3231</th>\n",
              "      <td>3231</td>\n",
              "      <td>2018-04-30</td>\n",
              "      <td>8.9</td>\n",
              "    </tr>\n",
              "    <tr>\n",
              "      <th>3232</th>\n",
              "      <td>3232</td>\n",
              "      <td>2018-05-31</td>\n",
              "      <td>13.2</td>\n",
              "    </tr>\n",
              "    <tr>\n",
              "      <th>3233</th>\n",
              "      <td>3233</td>\n",
              "      <td>2018-06-30</td>\n",
              "      <td>15.9</td>\n",
              "    </tr>\n",
              "    <tr>\n",
              "      <th>3234</th>\n",
              "      <td>3234</td>\n",
              "      <td>2018-07-31</td>\n",
              "      <td>1.6</td>\n",
              "    </tr>\n",
              "  </tbody>\n",
              "</table>\n",
              "<p>3235 rows × 3 columns</p>\n",
              "</div>"
            ],
            "text/plain": [
              "      Unnamed: 0        Date  Monthly Mean Total Sunspot Number\n",
              "0              0  1749-01-31                               96.7\n",
              "1              1  1749-02-28                              104.3\n",
              "2              2  1749-03-31                              116.7\n",
              "3              3  1749-04-30                               92.8\n",
              "4              4  1749-05-31                              141.7\n",
              "...          ...         ...                                ...\n",
              "3230        3230  2018-03-31                                2.5\n",
              "3231        3231  2018-04-30                                8.9\n",
              "3232        3232  2018-05-31                               13.2\n",
              "3233        3233  2018-06-30                               15.9\n",
              "3234        3234  2018-07-31                                1.6\n",
              "\n",
              "[3235 rows x 3 columns]"
            ]
          },
          "metadata": {
            "tags": []
          },
          "execution_count": 3
        }
      ]
    },
    {
      "cell_type": "code",
      "metadata": {
        "id": "Cbm9WgYun7tf",
        "colab_type": "code",
        "colab": {}
      },
      "source": [
        "series = df_sun.iloc[:,2].values\n",
        "time = df_sun.iloc[:,0].values"
      ],
      "execution_count": 4,
      "outputs": []
    },
    {
      "cell_type": "code",
      "metadata": {
        "id": "l1WhNgLYq7ai",
        "colab_type": "code",
        "colab": {
          "base_uri": "https://localhost:8080/",
          "height": 296
        },
        "outputId": "51369308-aa29-47da-8dfd-04af63e76618"
      },
      "source": [
        "plt.xlabel(\"time\")\n",
        "plt.ylabel(\"prediction\")\n",
        "plt.plot(time, series)"
      ],
      "execution_count": 5,
      "outputs": [
        {
          "output_type": "execute_result",
          "data": {
            "text/plain": [
              "[<matplotlib.lines.Line2D at 0x7f78f9bb5978>]"
            ]
          },
          "metadata": {
            "tags": []
          },
          "execution_count": 5
        },
        {
          "output_type": "display_data",
          "data": {
            "image/png": "[encoded data removed]",
            "text/plain": [
              "<Figure size 432x288 with 1 Axes>"
            ]
          },
          "metadata": {
            "tags": [],
            "needs_background": "light"
          }
        }
      ]
    },
    {
      "cell_type": "markdown",
      "metadata": {
        "id": "xtx0hiy4suVB",
        "colab_type": "text"
      },
      "source": [
        "Dividimos en train y test los 3235 datos en\n",
        "split 2700"
      ]
    },
    {
      "cell_type": "code",
      "metadata": {
        "id": "V6tdZR6jsunX",
        "colab_type": "code",
        "colab": {}
      },
      "source": [
        "split = 2700\n",
        "series_train = series[:split]\n",
        "series_val = series[split:]\n",
        "time_trian = series[:split]\n",
        "time_val = series[split:]"
      ],
      "execution_count": 6,
      "outputs": []
    },
    {
      "cell_type": "markdown",
      "metadata": {
        "id": "XKWSGHcIsrWW",
        "colab_type": "text"
      },
      "source": [
        "generasmos el data set"
      ]
    },
    {
      "cell_type": "code",
      "metadata": {
        "id": "Uhj2UFD2sVXD",
        "colab_type": "code",
        "colab": {}
      },
      "source": [
        "from tensorflow.data import Dataset\n",
        "def generate_windowed_dataset(series, windowsize, batchsize):\n",
        "  series = tf.expand_dims(series, -1)\n",
        "  ds = Dataset.from_tensor_slices(series)\n",
        "  ds = ds.window(windowsize, 1,1,True)\n",
        "  ds = ds.flat_map( lambda x: x.batch(windowsize))\n",
        "  ds = ds.shuffle(1000)\n",
        "  ds = ds.map(lambda x: (x[:-1], x[-1:]))\n",
        "  ds = ds.batch(batchsize).prefetch(1)\n",
        "  return ds"
      ],
      "execution_count": 7,
      "outputs": []
    },
    {
      "cell_type": "code",
      "metadata": {
        "id": "b7Oa6AjEttXN",
        "colab_type": "code",
        "colab": {}
      },
      "source": [
        "from tensorflow.keras import layers\n",
        "\n",
        "tf.keras.backend.clear_session()\n",
        "window_size = 64\n",
        "batch_size = 256\n",
        "train_set = generate_windowed_dataset(series_train, window_size, batch_size)\n",
        "\n",
        "#creamos nuestro modelo\n",
        "model = tf.keras.models.Sequential([\n",
        "  layers.Conv1D(32,12,1,\"causal\",activation =\"relu\", input_shape=(None, 1)),\n",
        "  layers.LSTM(64,return_sequences=True),\n",
        "  layers.LSTM(64,return_sequences=True),\n",
        "  layers.Dense(32, activation = \"relu\"),\n",
        "  layers.Dense(10, activation = \"relu\"),\n",
        "  layers.Dense(1, activation = \"relu\"),\n",
        "  layers.Lambda(lambda x: x*400)\n",
        "])\n",
        "\n",
        "lr_shedule = tf.keras.callbacks"
      ],
      "execution_count": 22,
      "outputs": []
    },
    {
      "cell_type": "markdown",
      "metadata": {
        "id": "NGYq1DsiYlRA",
        "colab_type": "text"
      },
      "source": [
        "compilamos el modelo"
      ]
    },
    {
      "cell_type": "code",
      "metadata": {
        "id": "7Vc9SikaUiTt",
        "colab_type": "code",
        "colab": {}
      },
      "source": [
        "from tensorflow.keras import layers\n",
        "lr_shedule = tf.keras.callbacks.LearningRateScheduler(lambda epoch: 1e-8 * 10**(epoch / 20))\n",
        "optimizer = tf.keras.optimizers.SGD(lr = 1e-8, momentum=0.8)\n",
        "model.compile(loss=tf.keras.losses.Huber(),optimizer=optimizer, metrics=[\"mae\"])"
      ],
      "execution_count": 23,
      "outputs": []
    },
    {
      "cell_type": "markdown",
      "metadata": {
        "id": "pk9UhvRlYpdF",
        "colab_type": "text"
      },
      "source": [
        "corremos el primer acercamiento de el modelos"
      ]
    },
    {
      "cell_type": "code",
      "metadata": {
        "id": "M4a3dLCXXYpq",
        "colab_type": "code",
        "colab": {}
      },
      "source": [
        "history = model.fit(train_set,epochs = 100, callbacks = [lr_shedule])"
      ],
      "execution_count": null,
      "outputs": []
    },
    {
      "cell_type": "markdown",
      "metadata": {
        "id": "U9EDTDg0enWK",
        "colab_type": "text"
      },
      "source": [
        "avriguamos el learning rate optimo"
      ]
    },
    {
      "cell_type": "code",
      "metadata": {
        "id": "rztdrh7cXY8y",
        "colab_type": "code",
        "colab": {
          "base_uri": "https://localhost:8080/",
          "height": 286
        },
        "outputId": "730afdf7-74f5-4899-9cbb-b31fe59b9fb3"
      },
      "source": [
        "y=history.history[\"loss\"]\n",
        "x=history.history[\"lr\"]\n",
        "\n",
        "plt.semilogx(x,y)\n",
        "plt.axis([1e-5,1e-4,35,45])"
      ],
      "execution_count": 44,
      "outputs": [
        {
          "output_type": "execute_result",
          "data": {
            "text/plain": [
              "(1e-05, 0.0001, 35.0, 45.0)"
            ]
          },
          "metadata": {
            "tags": []
          },
          "execution_count": 44
        },
        {
          "output_type": "display_data",
          "data": {
            "image/png": "[encoded data removed]",
            "text/plain": [
              "<Figure size 432x288 with 1 Axes>"
            ]
          },
          "metadata": {
            "tags": [],
            "needs_background": "light"
          }
        }
      ]
    },
    {
      "cell_type": "code",
      "metadata": {
        "id": "GNH8ObGpbUGR",
        "colab_type": "code",
        "colab": {}
      },
      "source": [
        "0"
      ],
      "execution_count": null,
      "outputs": []
    }
  ]
}