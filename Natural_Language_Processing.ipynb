{
  "nbformat": 4,
  "nbformat_minor": 0,
  "metadata": {
    "colab": {
      "name": "Natural Language Processing.ipynb",
      "provenance": [],
      "authorship_tag": "ABX9TyPX9dKsL+qINArQPXpBiMZb",
      "include_colab_link": true
    },
    "kernelspec": {
      "name": "python3",
      "display_name": "Python 3"
    }
  },
  "cells": [
    {
      "cell_type": "markdown",
      "metadata": {
        "id": "view-in-github",
        "colab_type": "text"
      },
      "source": [
        "<a href=\"https://colab.research.google.com/github/jahelsantiago/tensorflow_tutorial/blob/master/Natural_Language_Processing.ipynb\" target=\"_parent\"><img src=\"https://colab.research.google.com/assets/colab-badge.svg\" alt=\"Open In Colab\"/></a>"
      ]
    },
    {
      "cell_type": "code",
      "metadata": {
        "id": "HhZWjcKR_39H",
        "colab_type": "code",
        "colab": {}
      },
      "source": [
        "import tensorflow as tf\n",
        "import keras as k"
      ],
      "execution_count": 3,
      "outputs": []
    },
    {
      "cell_type": "code",
      "metadata": {
        "id": "-iDl_WKzAKm0",
        "colab_type": "code",
        "colab": {}
      },
      "source": [
        "from keras.preprocessing.text import Tokenizer\n",
        "from keras.preprocessing.sequence import pad_sequences\n",
        "\n",
        "sentence = [\n",
        "  \"yo amo a los gatos\",\n",
        "  \"yo amo a los perros\",\n",
        "  \"mi gato gusta de los perros y los manaties\"\n",
        "]\n",
        "\n",
        "tokenizer = Tokenizer(num_words=100, oov_token = \"<OOV>\") #crea una instancia de la clase tokenizer \n",
        "tokenizer.fit_on_texts(sentence) #da las palabras de la oraciones para crear el diccionario\n",
        "word_index = tokenizer.word_index #retorna el diccionario\n",
        "\n",
        "sequence = tokenizer.texts_to_sequences(sentence) #retorna las palabras en su respectivo token\n",
        "\n",
        "padded = pad_sequences(sequence, padding=\"post\",) #hace que las frases tengan el mismo tamaño añadiendo \"0\" al inicio"
      ],
      "execution_count": 17,
      "outputs": []
    },
    {
      "cell_type": "markdown",
      "metadata": {
        "id": "r0ush2oGC3vu",
        "colab_type": "text"
      },
      "source": [
        "**pad_sequences**(\n",
        "  - sequence: frase en formato tokenizado\n",
        "  - padding = \"pre\"/\"post\" define si añadir los 0 al inicio o al final\n",
        "  - maxlen = 5 : define la longitud maxima que puede tener una frase\n",
        "  - truncating: \"pre\"/\"post\" define si truncar al inicio o al final\n",
        "\n",
        ")"
      ]
    },
    {
      "cell_type": "code",
      "metadata": {
        "id": "-cZoWNTcAX4N",
        "colab_type": "code",
        "colab": {
          "base_uri": "https://localhost:8080/",
          "height": 212
        },
        "outputId": "b4a06977-8a63-4352-c60f-ffd3918fca29"
      },
      "source": [
        "print(\"\\n after tokenize dictionarie\\n\", word_index) #imprime el diccionario de las palabras pasadas\n",
        "print(\"\\n aftesr text to sequence\\n\" , sequence)\n",
        "print(\"\\n afeter padding \\n\" ,padded) #imprime las fraces despued de text_to_sequence y pad_sequences "
      ],
      "execution_count": 25,
      "outputs": [
        {
          "output_type": "stream",
          "text": [
            "\n",
            " after tokenize dictionarie\n",
            " {'<OOV>': 1, 'los': 2, 'yo': 3, 'amo': 4, 'a': 5, 'perros': 6, 'gatos': 7, 'mi': 8, 'gato': 9, 'gusta': 10, 'de': 11, 'y': 12, 'manaties': 13}\n",
            "\n",
            " aftesr text to sequence\n",
            " [[3, 4, 5, 2, 7], [3, 4, 5, 2, 6], [8, 9, 10, 11, 2, 6, 12, 2, 13]]\n",
            "\n",
            " afeter padding \n",
            " [[ 3  4  5  2  7  0  0  0  0]\n",
            " [ 3  4  5  2  6  0  0  0  0]\n",
            " [ 8  9 10 11  2  6 12  2 13]]\n"
          ],
          "name": "stdout"
        }
      ]
    },
    {
      "cell_type": "code",
      "metadata": {
        "id": "YAgs8q0lBpRB",
        "colab_type": "code",
        "colab": {}
      },
      "source": [
        "test =  [\"mi gato se llama monono o\",\n",
        "         \"es un gato perro\"]\n",
        "test_seq = tokenizer.texts_to_sequences(test)  #convierte una frase en diccionario       \n",
        "test_padded = pad_sequences(test_seq, maxlen=3, truncating= \"post\") #añade padding a la frase"
      ],
      "execution_count": 37,
      "outputs": []
    },
    {
      "cell_type": "code",
      "metadata": {
        "id": "TpC31Y6eBwzX",
        "colab_type": "code",
        "colab": {
          "base_uri": "https://localhost:8080/",
          "height": 52
        },
        "outputId": "4ffb8529-dfd9-4c40-bea9-9a64a6b553d3"
      },
      "source": [
        "test_padded"
      ],
      "execution_count": 38,
      "outputs": [
        {
          "output_type": "execute_result",
          "data": {
            "text/plain": [
              "array([[8, 9, 1],\n",
              "       [1, 1, 9]], dtype=int32)"
            ]
          },
          "metadata": {
            "tags": []
          },
          "execution_count": 38
        }
      ]
    },
    {
      "cell_type": "code",
      "metadata": {
        "id": "uNBnG1WiCWgS",
        "colab_type": "code",
        "colab": {}
      },
      "source": [
        ""
      ],
      "execution_count": null,
      "outputs": []
    }
  ]
}